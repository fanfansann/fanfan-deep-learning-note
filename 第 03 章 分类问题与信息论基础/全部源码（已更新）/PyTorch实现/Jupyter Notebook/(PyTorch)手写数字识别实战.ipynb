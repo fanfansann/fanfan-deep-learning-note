{
 "cells": [
  {
   "cell_type": "code",
   "execution_count": 1,
   "metadata": {},
   "outputs": [
    {
     "name": "stdout",
     "output_type": "stream",
     "text": [
      "sys.version_info(major=3, minor=8, micro=5, releaselevel='final', serial=0)\n",
      "torch 1.10.2\n",
      "torchvision 0.11.3\n",
      "numpy 1.19.3\n",
      "pandas 1.3.3\n",
      "sklearn 0.22.2.post1\n"
     ]
    }
   ],
   "source": [
    "%matplotlib inline\n",
    "import os\n",
    "import sys\n",
    "import time\n",
    "import torch # 导入 pytorch \n",
    "import sklearn\n",
    "import torchvision # 导入视觉库\n",
    "import numpy as np\n",
    "import pandas as pd\n",
    "from torch import nn # 导入网络层子库\n",
    "from torch import optim # 导入优化器\n",
    "from torchsummary import summary # 从 torchsummary 工具包中导入 summary 函数\n",
    "from torch.nn import functional as F # 导入网络层函数子库\n",
    "from matplotlib import pyplot as plt\n",
    "from utils import one_hot, plot_curve, plot_image\n",
    "\n",
    "print(sys.version_info)\n",
    "for module in torch, torchvision, np, pd, sklearn:\n",
    "    print(module.__name__, module.__version__)"
   ]
  },
  {
   "cell_type": "code",
   "execution_count": 2,
   "metadata": {},
   "outputs": [
    {
     "data": {
      "text/plain": [
       "'  Hyperparameters   '"
      ]
     },
     "execution_count": 2,
     "metadata": {},
     "output_type": "execute_result"
    }
   ],
   "source": [
    "\n",
    "''''   超参数   '''\n",
    "\n",
    "batch_size = 512 # 批大小\n",
    "n_epochs = 3\n",
    "# 学习率\n",
    "learning_rate = 0.01\n",
    "# 动量\n",
    "momentum = 0.9\n",
    "\n",
    "'''  Hyperparameters   '''"
   ]
  },
  {
   "cell_type": "code",
   "execution_count": 3,
   "metadata": {},
   "outputs": [],
   "source": [
    "'''  Step 1 下载训练集和测试集，对数据进行预处理  '''\n",
    "\n",
    "# 训练数据集，从网络下载 MNIST数据集 保存至 mnist_data 文件夹中\n",
    "# 创建 DataLoader 对象 (iterable, 类似 list，可用 iter() 进行访问)，方便批量训练，将数据标准化在 0 附近并随机打散\n",
    "train_loader = torch.utils.data.DataLoader(\n",
    "    torchvision.datasets.MNIST('mnist_data', train = True, download = True,\n",
    "                                     # 图片预处理\n",
    "                                     transform = torchvision.transforms.Compose([\n",
    "                                         # 转换为张量\n",
    "                                         torchvision.transforms.ToTensor(),\n",
    "                                         # 标准化\n",
    "                                         torchvision.transforms.Normalize(\n",
    "                                         (0.1307,), (0.3081,))\n",
    "                                     ])),\n",
    "    batch_size = batch_size, shuffle = True)\n",
    "\n",
    "test_loader = torch.utils.data.DataLoader(\n",
    "    torchvision.datasets.MNIST('mnist_data/', train = False, download = True,\n",
    "                                     transform = torchvision.transforms.Compose([\n",
    "                                         torchvision.transforms.ToTensor(),\n",
    "                                         torchvision.transforms.Normalize(\n",
    "                                         (0.1307,), (0.3081,)) # 使用训练集的均值和方差\n",
    "                                     ])),\n",
    "    batch_size = batch_size, shuffle = False)"
   ]
  },
  {
   "cell_type": "code",
   "execution_count": 4,
   "metadata": {},
   "outputs": [
    {
     "name": "stdout",
     "output_type": "stream",
     "text": [
      "torch.Size([512, 1, 28, 28]) torch.Size([512]) tensor(-0.4242) tensor(2.8215)\n"
     ]
    },
    {
     "data": {
      "image/png": "[encoded data removed]",
      "text/plain": [
       "<Figure size 432x288 with 6 Axes>"
      ]
     },
     "metadata": {},
     "output_type": "display_data"
    }
   ],
   "source": [
    "'''   Step 2。 展示样本数据   '''\n",
    "\n",
    "\n",
    "def show_sample_image():\n",
    "    # 使用 iter() 从 DataLoader 中取出 迭代器， next() 选取下一个迭代器\n",
    "    x, y = next(iter(train_loader))\n",
    "    # 输出数据的 shape，以及输入图片的最小最大强度值\n",
    "    print(x.shape, y.shape, x.min(), x.max())\n",
    "    # 使用自己封装的 polt_image() 函数对图片进行展示\n",
    "    plot_image(x, y, 'image sample')\n",
    "    \n",
    "show_sample_image()    "
   ]
  },
  {
   "cell_type": "code",
   "execution_count": 5,
   "metadata": {},
   "outputs": [
    {
     "name": "stdout",
     "output_type": "stream",
     "text": [
      "True\n",
      "Net(\n",
      "  (fc1): Linear(in_features=784, out_features=256, bias=True)\n",
      "  (fc2): Linear(in_features=256, out_features=64, bias=True)\n",
      "  (fc3): Linear(in_features=64, out_features=10, bias=True)\n",
      ")\n",
      "----------------------------------------------------------------\n",
      "        Layer (type)               Output Shape         Param #\n",
      "================================================================\n",
      "            Linear-1               [-1, 1, 256]         200,960\n",
      "            Linear-2                [-1, 1, 64]          16,448\n",
      "            Linear-3                [-1, 1, 10]             650\n",
      "================================================================\n",
      "Total params: 218,058\n",
      "Trainable params: 218,058\n",
      "Non-trainable params: 0\n",
      "----------------------------------------------------------------\n",
      "Input size (MB): 0.00\n",
      "Forward/backward pass size (MB): 0.00\n",
      "Params size (MB): 0.83\n",
      "Estimated Total Size (MB): 0.84\n",
      "----------------------------------------------------------------\n"
     ]
    }
   ],
   "source": [
    "'''   Step 3。 搭建网络模型   '''\n",
    "\n",
    "class Net(nn.Module):\n",
    "    # 网络初始化\n",
    "    def __init__(self):\n",
    "        super(Net, self).__init__()\n",
    "        # y = wx + b\n",
    "        # 三层全连接层神经网络\n",
    "        self.fc1 = nn.Linear(28 * 28, 256)\n",
    "        self.fc2 = nn.Linear(256, 64)\n",
    "        self.fc3 = nn.Linear(64, 10)\n",
    "\n",
    "    # 定义神经网络前向传播逻辑\n",
    "    def forward(self, x):\n",
    "        # x : [b, 1, 28, 28]\n",
    "        # h1 = relu(w1x + b1)\n",
    "        x = F.relu(self.fc1(x))\n",
    "        # h2 = relu(w2x + b2)\n",
    "        x = F.relu(self.fc2(x))\n",
    "        # h3 = w3h2 + b3\n",
    "        x = self.fc3(x)\n",
    "        # 直接返回向量 [b, 10], 通过 argmax 即可得到分类预测值\n",
    "        return x \n",
    "        '''\n",
    "        也可直接将向量经过 softmax 函数得到分类预测值\n",
    "        return F.log_softmax(x, dim = 1)\n",
    "        '''\n",
    "        \n",
    "# 使用 summary 函数之前，需要使用 device 来指定网络在 GPU 还是 CPU 运行\n",
    "device = torch.device(\"cuda\" if torch.cuda.is_available() else \"gpu\") \n",
    "print(torch.cuda.is_available())\n",
    "net = Net().to(device)\n",
    "# 所有的张量都需要进行 `.to(device)` \n",
    "print(net)\n",
    "summary(net, (1, 28 * 28))\n",
    "# summary(your_model, input_size=(channels, H, W))\n",
    "# input_size 要求符合模型的输入要求, 用来进行前向传播"
   ]
  },
  {
   "cell_type": "code",
   "execution_count": 6,
   "metadata": {},
   "outputs": [
    {
     "name": "stdout",
     "output_type": "stream",
     "text": [
      "epoch:0, iteration:0, loss:0.12122594565153122\n",
      "epoch:0, iteration:10, loss:0.09926386922597885\n",
      "epoch:0, iteration:20, loss:0.08644484728574753\n",
      "epoch:0, iteration:30, loss:0.07972756773233414\n",
      "epoch:0, iteration:40, loss:0.07488133013248444\n",
      "epoch:0, iteration:50, loss:0.07044463604688644\n",
      "epoch:0, iteration:60, loss:0.06637724488973618\n",
      "epoch:0, iteration:70, loss:0.06356173753738403\n",
      "epoch:0, iteration:80, loss:0.05986356735229492\n",
      "epoch:0, iteration:90, loss:0.05715459585189819\n",
      "epoch:0, iteration:100, loss:0.05593841150403023\n",
      "epoch:0, iteration:110, loss:0.05120903253555298\n",
      "epoch:1, iteration:0, loss:0.05355915054678917\n",
      "epoch:1, iteration:10, loss:0.050536610186100006\n",
      "epoch:1, iteration:20, loss:0.04767081141471863\n",
      "epoch:1, iteration:30, loss:0.048206694424152374\n",
      "epoch:1, iteration:40, loss:0.04414692148566246\n",
      "epoch:1, iteration:50, loss:0.04389065504074097\n",
      "epoch:1, iteration:60, loss:0.042195286601781845\n",
      "epoch:1, iteration:70, loss:0.044043783098459244\n",
      "epoch:1, iteration:80, loss:0.04229837656021118\n",
      "epoch:1, iteration:90, loss:0.0413779579102993\n",
      "epoch:1, iteration:100, loss:0.04181772097945213\n",
      "epoch:1, iteration:110, loss:0.03836136683821678\n",
      "epoch:2, iteration:0, loss:0.03855973109602928\n",
      "epoch:2, iteration:10, loss:0.038034625351428986\n",
      "epoch:2, iteration:20, loss:0.03956493362784386\n",
      "epoch:2, iteration:30, loss:0.03763895854353905\n",
      "epoch:2, iteration:40, loss:0.03816075250506401\n",
      "epoch:2, iteration:50, loss:0.03620471805334091\n",
      "epoch:2, iteration:60, loss:0.03597486764192581\n",
      "epoch:2, iteration:70, loss:0.03391267731785774\n",
      "epoch:2, iteration:80, loss:0.0356239415705204\n",
      "epoch:2, iteration:90, loss:0.035082779824733734\n",
      "epoch:2, iteration:100, loss:0.031901001930236816\n",
      "epoch:2, iteration:110, loss:0.03308051824569702\n"
     ]
    },
    {
     "data": {
      "image/png": "[encoded data removed]",
      "text/plain": [
       "<Figure size 432x288 with 1 Axes>"
      ]
     },
     "metadata": {
      "needs_background": "light"
     },
     "output_type": "display_data"
    }
   ],
   "source": [
    "'''   Step 4. 在训练集上进行训练   '''\n",
    "\n",
    "\n",
    "def MNIST_trains(net):\n",
    "    # 选择 SGD 随机梯度下降算法作为优化方法，导入网络参数、学习率以及动量\n",
    "    optimizer = optim.SGD(net.parameters(), lr = learning_rate, momentum = momentum)\n",
    "\n",
    "    train_loss = []\n",
    "\n",
    "    for epoch in range(n_epochs):\n",
    "        for batch_idx, (x, y) in enumerate(train_loader):\n",
    "            # 将数据 x 打平\n",
    "            # x: [b, 1, 28, 28] -> [b, 784]\n",
    "            x = x.view(x.size(0), 28 * 28).to(device)\n",
    "            # 经过神经网络 [b, 784] -> [b, 10]\n",
    "            out = net(x).to(device)\n",
    "            # 将数据的真实标签 y 转换为 one hot 向量\n",
    "            y_one_hot = one_hot(y).to(device)\n",
    "            # 计算 网络预测值 out 与 真实标签 y 的 mse 均方差\n",
    "            # loss = mse(out, y_one_hot)\n",
    "            loss = F.mse_loss(out, y_one_hot)\n",
    "            # zero grad 清空历史梯度数据\n",
    "            optimizer.zero_grad()\n",
    "            # 进行反向传播，计算当前梯度\n",
    "            loss.backward()\n",
    "            # 根据当前梯度更新网络参数\n",
    "            # w' = w - lr * grad\n",
    "            optimizer.step()\n",
    "            # 保存当前的损失函数值\n",
    "            train_loss.append(loss.item())\n",
    "            # 每 10 步 输出一次数据查看训练情况\n",
    "            if batch_idx % 10 == 0:\n",
    "                print(f\"epoch:{epoch}, iteration:{batch_idx}, loss:{loss.item()}\")\n",
    "    # 绘制损失函数图像\n",
    "    # [w1, b1, w2, b2, w3, b3]\n",
    "    plot_curve(train_loss)\n",
    "    \n",
    "MNIST_trains(net)"
   ]
  },
  {
   "cell_type": "code",
   "execution_count": 7,
   "metadata": {},
   "outputs": [
    {
     "name": "stdout",
     "output_type": "stream",
     "text": [
      "test_acc: 0.8927\n"
     ]
    }
   ],
   "source": [
    "'''   Step 5. 在测试集中进行测试   '''\n",
    "\n",
    "\n",
    "def MNIST_tests(net):\n",
    "    # 在测试集中预测正确的总数\n",
    "    total_correct = 0\n",
    "    # 迭代所有测试数据\n",
    "    for x, y in test_loader:\n",
    "        # 将图片 x 打平\n",
    "        x = x.view(x.size(0), 28 * 28).to(device)\n",
    "        # 经过已经训练好的神经网络 net\n",
    "        out = net(x).to(device)\n",
    "        # 预测值 pred: argmax 返回指定维度最大值的索引\n",
    "        # out [b, 10] -> pred [b]\n",
    "        pred = out.argmax(dim = 1).to(device)\n",
    "        # 计算预测值等于真实标签的样本数量\n",
    "        correct = pred.eq(y.to(device)).sum().float().item()\n",
    "        # 计算预测正确样本的总数\n",
    "        total_correct += correct\n",
    "    # 总样本数即为测试集的长度\n",
    "    total_num = len(test_loader.dataset)\n",
    "    # 计算正确率\n",
    "    acc = total_correct / total_num\n",
    "    # 输出测试正确率 acc\n",
    "    print(\"test_acc:\", acc)\n",
    "    \n",
    "MNIST_tests(net)"
   ]
  },
  {
   "cell_type": "code",
   "execution_count": 8,
   "metadata": {},
   "outputs": [
    {
     "data": {
      "image/png": "[encoded data removed]",
      "text/plain": [
       "<Figure size 432x288 with 6 Axes>"
      ]
     },
     "metadata": {},
     "output_type": "display_data"
    }
   ],
   "source": [
    "'''   Step 6。 展示样本数据   '''\n",
    "\n",
    "\n",
    "def show_test_sample_image(net):\n",
    "    x, y = next(iter(test_loader))\n",
    "    out = net(x.view(x.size(0), 28 * 28).to(device)).to(device)\n",
    "    pred = out.argmax(dim = 1).to(device)\n",
    "    plot_image(x, pred, 'test')\n",
    "    \n",
    "show_test_sample_image(net)"
   ]
  },
  {
   "cell_type": "code",
   "execution_count": 9,
   "metadata": {},
   "outputs": [
    {
     "data": {
      "text/plain": [
       "'\\ndef solve():\\n    show_sample_image()\\n\\n    net = Net()\\n\\n    MNIST_trains(net)\\n    MNIST_tests(net)\\n\\n    show_test_sample_image(net)\\n\\n\\nif __name__ == \"__main__\":\\n    solve()\\n'"
      ]
     },
     "execution_count": 9,
     "metadata": {},
     "output_type": "execute_result"
    }
   ],
   "source": [
    "'''\n",
    "def solve():\n",
    "    show_sample_image()\n",
    "\n",
    "    net = Net()\n",
    "\n",
    "    MNIST_trains(net)\n",
    "    MNIST_tests(net)\n",
    "\n",
    "    show_test_sample_image(net)\n",
    "\n",
    "\n",
    "if __name__ == \"__main__\":\n",
    "    solve()\n",
    "'''"
   ]
  }
 ],
 "metadata": {
  "kernelspec": {
   "display_name": "Python [conda env:.conda-pytorch] *",
   "language": "python",
   "name": "conda-env-.conda-pytorch-py"
  },
  "language_info": {
   "codemirror_mode": {
    "name": "ipython",
    "version": 3
   },
   "file_extension": ".py",
   "mimetype": "text/x-python",
   "name": "python",
   "nbconvert_exporter": "python",
   "pygments_lexer": "ipython3",
   "version": "3.8.5"
  }
 },
 "nbformat": 4,
 "nbformat_minor": 4
}
