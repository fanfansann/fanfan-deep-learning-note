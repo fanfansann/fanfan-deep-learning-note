{
 "cells": [
  {
   "cell_type": "markdown",
   "id": "4a665c09",
   "metadata": {},
   "source": [
    "&emsp;&emsp;在理解了神经元线性模型的原理以及各种优化算法以后，我们来实战训练单输入神经元线性模型。\n",
    "\n",
    "&emsp;&emsp;首先我们引入需要的包。"
   ]
  },
  {
   "cell_type": "code",
   "execution_count": 1,
   "id": "498ca646",
   "metadata": {},
   "outputs": [],
   "source": [
    "%matplotlib inline\n",
    "import numpy as np\n",
    "import math\n",
    "from matplotlib import pyplot as plt\n",
    "# cal y = 1.477x + 0.089 + epsilon,epsilon ~ N(0, 0.01^2)"
   ]
  },
  {
   "cell_type": "markdown",
   "id": "2e390add",
   "metadata": {},
   "source": [
    "**1. 生成数据集**\n",
    "\n",
    "&emsp;&emsp;我们需要采样自真实模型的多组数据，对于已知真实模型的 **玩具样例** (Toy Example)，我们直接从指定的 $w = 1.477 , b = 0.089$ 的真实模型中直接采样：\n",
    "$$\n",
    "y=1.477 \\times x+0.089\n",
    "$$\n",
    "\n",
    "\n",
    "\n",
    "&emsp;&emsp;为了能够很好地模拟真实样本的观测误差，我们给模型添加误差自变量 $\\epsilon$ ，它采样自均值为 $0$ ，方差为 $0.01$ 的高斯分布：\n",
    "$$\n",
    "y=1.477 x+0.089+\\epsilon, \\epsilon \\sim \\mathcal{N}(0,0.01)\n",
    "$$\n",
    "\n",
    "&emsp;&emsp;我们通过随机采样 $n = 100$ 次，我们获得 $n$ 个样本的训练数据集 $\\mathbb D_{\\mathrm{train}}$ ，然后循环进行 $100$ 次采样，每次从均匀分布 $U ( -10,10)$ 中随机采样一个数据 $x$ 同时从均值为 $0$ ，方差为 $0.1^{2}$ 的高斯分布 $\\mathcal{N}\\left(0,0.1^{2}\\right)$ 中随机采样噪声 $\\epsilon$，根据真实模型生成 $y$ 的数据，并保存为 $\\text{Numpy}$ 数组。"
   ]
  },
  {
   "cell_type": "code",
   "execution_count": 2,
   "id": "4bbabdb8",
   "metadata": {},
   "outputs": [],
   "source": [
    "def get_data():\n",
    "    # 计算均方误差\n",
    "    #保存样本集的列表\n",
    "    data = [] \n",
    "    for i in range(100):\n",
    "        x = np.random.uniform(-10., 10.)  # 随机采样 x\n",
    "        # 高斯噪声\n",
    "        eps = np.random.normal(0., 0.01) # 均值和方差\n",
    "        # 得到模型的输出\n",
    "        y = 1.477 * x + 0.089 + eps\n",
    "        # 保存样本点\n",
    "        data.append([x, y]) \n",
    "    # 转换为2D Numpy数组\n",
    "    data = np.array(data)  \n",
    "    return data"
   ]
  },
  {
   "cell_type": "markdown",
   "id": "85e8343d",
   "metadata": {},
   "source": [
    "**2. 计算误差**\n",
    "\n",
    "&emsp;&emsp;循环计算在每个点 $\\left(x^{(i)}, y^{(i)}\\right)$ 处的预测值与真实值之间差的平方并累加，从而获得训练集上的均方差损失值。\n",
    "\n",
    "&emsp;&emsp;最后的误差和除以数据样本总数，从而得到每个样本上的平均误差。"
   ]
  },
  {
   "cell_type": "code",
   "execution_count": 3,
   "id": "9d85924c",
   "metadata": {},
   "outputs": [],
   "source": [
    "def mse(b, w, points) :\n",
    "    totalError = 0\n",
    "    # 根据当前的w，b参数计算均方差损失\n",
    "    for i in range(0, len(points)) : # 循环迭代所有点\n",
    "        # 获得 i 号点的输入 x\n",
    "        x = points[i, 0]\n",
    "        # 获得 i 号点的输出 y\n",
    "        y = points[i, 1]\n",
    "        # 计算差的平方，并累加\n",
    "        totalError += (y - (w * x + b)) ** 2\n",
    "    # 将累加的误差求平均，得到均方误差\n",
    "    return totalError / float(len(points))"
   ]
  },
  {
   "cell_type": "markdown",
   "id": "8953d873",
   "metadata": {},
   "source": [
    "**3. 计算梯度**\n",
    "\n",
    "&emsp;&emsp;这里我们使用更加简单好用的梯度下降算法。我们需要计算出函数在每一个点上的梯度信息： $\\left(\\dfrac{\\partial \\mathcal{L}}{\\partial w}, \\dfrac{\\partial \\mathcal{L}}{\\partial b}\\right)$。我们来推导一下梯度的表达式，首先考虑 $\\dfrac{\\partial \\mathcal{L}}{\\partial w}$ ，将均方差函数展开： \n",
    "\n",
    "$$\n",
    "\\begin{aligned}\\frac{\\displaystyle \\partial \\mathcal{L}}{\\partial w}&=\\frac{\\displaystyle \\partial \\frac{1}{n} \\sum_{i=1}^{n}\\left(w x^{(i)}+b-y^{(i)}\\right)^{2}}{\\partial w}&\\\\&=\\frac{1}{n} \\sum_{i=1}^{n} \\frac{\\partial\\left(w x^{(i)}+b-y^{(i)}\\right)^{2}}{\\partial w}\\end{aligned}\n",
    "$$\n",
    "\n",
    "由于：\n",
    "\n",
    "$$\n",
    "\\frac{\\partial g^{2}}{\\partial w}=2 \\cdot g \\cdot \\frac{\\partial g}{\\partial w}\n",
    "$$\n",
    "\n",
    "则有：\n",
    "\n",
    "$$\n",
    "\\begin{aligned}\\frac{\\partial \\mathcal{L}}{\\partial w}&=\\frac{1}{n} \\sum_{i=1}^{n} 2\\left(w x^{(i)}+b-y^{(i)}\\right) \\cdot \\frac{\\partial\\left(w x^{(i)}+b-y^{(i)}\\right)}{\\partial w} &\\\\&=\\frac{1}{n} \\sum_{i=1}^{n} 2\\left(w x^{(i)}+b-y^{(i)}\\right) \\cdot x^{(i)} &\\\\&=\\frac{2}{n} \\sum_{i=1}^{n}\\left(w x^{(i)}+b-y^{(i)}\\right) \\cdot x^{(i)}\\end{aligned}\n",
    "$$\n",
    "\n",
    "\n",
    "$$\n",
    "\\begin{aligned}\\dfrac{\\partial \\mathcal{L}}{\\partial b}&=\\dfrac{\\displaystyle \\partial \\dfrac{1}{n} \\sum_{i=1}^{n}\\left(w x^{(i)}+b-y^{(i)}\\right)^{2}}{\\partial b}\\\\&=\\frac{1}{n} \\sum_{i=1}^{n} \\frac{\\partial\\left(w x^{(i)}+b-y^{(i)}\\right)^{2}}{\\partial b} &\\\\&=\\frac{1}{n} \\sum_{i=1}^{n} 2\\left(w x^{(i)}+b-y^{(i)}\\right) \\cdot \\frac{\\partial\\left(w x^{(i)}+b-y^{(i)}\\right)}{\\partial b} &\\\\&=\\frac{1}{n} \\sum_{i=1}^{n} 2\\left(w x^{(i)}+b-y^{(i)}\\right) \\cdot 1 &\\\\&=\\frac{2}{n} \\sum_{i=1}^{n}\\left(w x^{(i)}+b-y^{(i)}\\right)\\end{aligned}\n",
    "$$\n",
    "\n",
    "&emsp;&emsp;根据上面偏导数的表达式，我们只需要计算在每一个点上面的 $\\left(w x^{(i)}+b-y^{(i)}\\right)$ 和 $\\left(w x^{(i)}+b-y^{(i)}\\right)$ 值，平均后即可得到偏导数 $\\dfrac{\\partial \\mathcal{L}}{\\partial w}$ 和 $\\dfrac{\\partial \\mathcal{L}}{\\partial b}$ 。 "
   ]
  },
  {
   "cell_type": "code",
   "execution_count": 4,
   "id": "1e63ea91",
   "metadata": {},
   "outputs": [],
   "source": [
    "# 计算偏导数\n",
    "def step_gradient(b_current, w_current, points, lr) :\n",
    "    # 计算误差函数在所有点上的异数，并更新w，b\n",
    "    b_gradient = 0\n",
    "    w_gradient = 0\n",
    "    # 总体样本\n",
    "    M = float(len(points))\n",
    "    for i in range(0, len(points)) :\n",
    "        x = points[i, 0]\n",
    "        y = points[i, 1]\n",
    "        # 偏b\n",
    "        b_gradient += (2 / M) * ((w_current * x + b_current) - y)\n",
    "        # 偏w\n",
    "        w_gradient += (2 / M) * x * ((w_current * x + b_current) - y)\n",
    "    # 根据梯度下降算法更新的 w',b',其中lr为学习率\n",
    "    new_b = b_current - (lr * b_gradient)\n",
    "    new_w = w_current - (lr * w_gradient)\n",
    "    return [new_b, new_w]\n",
    "    \n",
    "plt.rcParams['font.size'] = 16\n",
    "plt.rcParams['font.family'] = ['STKaiti']\n",
    "plt.rcParams['axes.unicode_minus'] = False\n",
    "\n",
    "# 梯度更新\n",
    "def gradient_descent(points, starting_b, starting_w, lr, num_iterations) :\n",
    "    b = starting_b\n",
    "    w = starting_w\n",
    "    MSE = []\n",
    "    Epoch = []\n",
    "    for step in range(num_iterations) :\n",
    "        b, w = step_gradient(b, w, np.array(points), lr)\n",
    "        # 计算当前的均方误差，用于监控训练进度\n",
    "        loss = mse(b, w, points)\n",
    "        MSE.append(loss)\n",
    "        Epoch.append(step)\n",
    "        if step % 50 == 0 :\n",
    "            print(f\"iteration:{step}, loss:{loss}, w:{w}, b:{b}\")\n",
    "    plt.plot(Epoch, MSE, color='C1', label='均方差')\n",
    "    plt.xlabel('epoch')\n",
    "    plt.ylabel('MSE')\n",
    "    plt.title('MSE function')\n",
    "    plt.legend(loc = 1)\n",
    "    plt.show()\n",
    "    return [b, w] "
   ]
  },
  {
   "cell_type": "markdown",
   "id": "f7a02b2d",
   "metadata": {},
   "source": [
    "**4. 主函数**\n",
    "\n"
   ]
  },
  {
   "cell_type": "code",
   "execution_count": 5,
   "id": "3ee69c2a",
   "metadata": {
    "scrolled": true
   },
   "outputs": [
    {
     "name": "stdout",
     "output_type": "stream",
     "text": [
      "iteration:0, loss:8.52075121569461, w:0.9683621336270813, b:0.018598967590321615\n",
      "iteration:50, loss:0.0005939300597845278, w:1.477514542941938, b:0.06613823978315139\n",
      "iteration:100, loss:0.00016616611251547874, w:1.4772610937560182, b:0.08026637756911292\n",
      "iteration:150, loss:0.00010824080152649426, w:1.4771678278317757, b:0.08546534407456151\n",
      "iteration:200, loss:0.00010039689211198855, w:1.4771335072140424, b:0.08737849449355252\n",
      "iteration:250, loss:9.933471542527609e-05, w:1.4771208776838989, b:0.08808250836281861\n",
      "iteration:300, loss:9.919088162325623e-05, w:1.477116230185043, b:0.08834157608859644\n",
      "iteration:350, loss:9.917140448460003e-05, w:1.4771145199673728, b:0.08843690956066241\n",
      "iteration:400, loss:9.916876700352793e-05, w:1.477113890630052, b:0.08847199100845321\n",
      "iteration:450, loss:9.916840985114966e-05, w:1.4771136590423013, b:0.08848490051392309\n",
      "iteration:500, loss:9.916836148764827e-05, w:1.4771135738210939, b:0.08848965103996947\n",
      "iteration:550, loss:9.916835493854371e-05, w:1.4771135424608248, b:0.08849139917027324\n",
      "iteration:600, loss:9.916835405170177e-05, w:1.4771135309206636, b:0.08849204245893828\n",
      "iteration:650, loss:9.916835393161082e-05, w:1.4771135266740378, b:0.08849227918059785\n",
      "iteration:700, loss:9.916835391534817e-05, w:1.4771135251113363, b:0.08849236629101521\n",
      "iteration:750, loss:9.916835391314785e-05, w:1.477113524536283, b:0.08849239834648838\n",
      "iteration:800, loss:9.916835391284828e-05, w:1.477113524324671, b:0.08849241014247554\n",
      "iteration:850, loss:9.916835391280702e-05, w:1.4771135242468005, b:0.08849241448324166\n",
      "iteration:900, loss:9.916835391280325e-05, w:1.4771135242181452, b:0.08849241608058574\n",
      "iteration:950, loss:9.916835391280336e-05, w:1.4771135242076006, b:0.08849241666838711\n"
     ]
    },
    {
     "data": {
      "image/png": "[encoded data removed]",
      "text/plain": [
       "<Figure size 432x288 with 1 Axes>"
      ]
     },
     "metadata": {
      "needs_background": "light"
     },
     "output_type": "display_data"
    },
    {
     "name": "stdout",
     "output_type": "stream",
     "text": [
      "Final loss:9.916835391280157e-05, w1.4771135242037658, b0.08849241688214672\n"
     ]
    }
   ],
   "source": [
    "def solve(data) :\n",
    "    # 学习率\n",
    "    lr = 0.01\n",
    "    initial_b = 0\n",
    "    initial_w = 0\n",
    "    num_iterations = 1000\n",
    "    [b, w] = gradient_descent(data, initial_b, initial_w, lr, num_iterations)\n",
    "    loss = mse(b, w, data)\n",
    "    print(f'Final loss:{loss}, w{w}, b{b}')\n",
    "\n",
    "if __name__ == \"__main__\": \n",
    "    data = get_data() \n",
    "    solve(data)"
   ]
  }
 ],
 "metadata": {
  "kernelspec": {
   "display_name": "Python 3 (ipykernel)",
   "language": "python",
   "name": "python3"
  },
  "language_info": {
   "codemirror_mode": {
    "name": "ipython",
    "version": 3
   },
   "file_extension": ".py",
   "mimetype": "text/x-python",
   "name": "python",
   "nbconvert_exporter": "python",
   "pygments_lexer": "ipython3",
   "version": "3.7.11"
  }
 },
 "nbformat": 4,
 "nbformat_minor": 5
}
